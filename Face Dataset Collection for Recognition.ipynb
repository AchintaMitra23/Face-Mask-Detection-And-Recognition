{
 "cells": [
  {
   "cell_type": "code",
   "execution_count": null,
   "metadata": {},
   "outputs": [],
   "source": [
    "import cv2, os\n",
    "import numpy as np"
   ]
  },
  {
   "cell_type": "code",
   "execution_count": null,
   "metadata": {},
   "outputs": [],
   "source": [
    "capture = cv2.VideoCapture(0)\n",
    "classifier = cv2.CascadeClassifier('haarcascade_frontalface_default.xml')"
   ]
  },
  {
   "cell_type": "code",
   "execution_count": null,
   "metadata": {},
   "outputs": [],
   "source": [
    "id = input('Enter user id : ')\n",
    "count = 0\n",
    "\n",
    "while(True):\n",
    "    ret, image = capture.read()\n",
    "    gray = cv2.cvtColor(image, cv2.COLOR_BGR2GRAY)\n",
    "    faces = classifier.detectMultiScale(gray, 1.3, 5)\n",
    "\n",
    "    for (xCor, yCor, width, height) in faces:\n",
    "        cv2.rectangle(image, (xCor, yCor), (xCor + width, yCor + height), (255, 255, 30), 2)     \n",
    "        count += 1\n",
    "        cv2.imwrite(\"dataset/face data.\" + str(id) + '.' + str(count) + \".jpg\", gray[yCor : yCor+height, xCor : xCor+width])\n",
    "        cv2.imshow('Collecting Your Face Data', image)\n",
    " \n",
    "    if cv2.waitKey(1) == 13 or count >= 100:\n",
    "        break\n",
    "        \n",
    "capture.release()\n",
    "cv2.destroyAllWindows()\n",
    "print ('Face Data is collected successfully')"
   ]
  },
  {
   "cell_type": "code",
   "execution_count": null,
   "metadata": {},
   "outputs": [],
   "source": []
  }
 ],
 "metadata": {
  "anaconda-cloud": {},
  "kernelspec": {
   "display_name": "Python 3",
   "language": "python",
   "name": "python3"
  },
  "language_info": {
   "codemirror_mode": {
    "name": "ipython",
    "version": 3
   },
   "file_extension": ".py",
   "mimetype": "text/x-python",
   "name": "python",
   "nbconvert_exporter": "python",
   "pygments_lexer": "ipython3",
   "version": "3.8.5"
  }
 },
 "nbformat": 4,
 "nbformat_minor": 1
}
