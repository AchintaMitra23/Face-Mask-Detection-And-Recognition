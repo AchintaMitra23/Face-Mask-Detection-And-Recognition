{
 "cells": [
  {
   "cell_type": "code",
   "execution_count": null,
   "metadata": {},
   "outputs": [],
   "source": [
    "import cv2, os\n",
    "import numpy as np"
   ]
  },
  {
   "cell_type": "code",
   "execution_count": null,
   "metadata": {},
   "outputs": [],
   "source": [
    "recognize = cv2.face.LBPHFaceRecognizer_create()\n",
    "recognize.read('trainer.yml')\n",
    "faceCascade = cv2.CascadeClassifier('haarcascade_frontalface_default.xml');\n",
    "id = 1\n",
    "names = ['','Achinta'] "
   ]
  },
  {
   "cell_type": "code",
   "execution_count": null,
   "metadata": {},
   "outputs": [],
   "source": [
    "cam = cv2.VideoCapture(0)\n",
    "cam.set(3, 640)\n",
    "cam.set(4, 480) \n",
    "\n",
    "minW = 0.1*cam.get(3)\n",
    "minH = 0.1*cam.get(4)\n",
    "\n",
    "while True:\n",
    "    ret, img =cam.read()\n",
    "    gray = cv2.cvtColor(img,cv2.COLOR_BGR2GRAY)\n",
    "    faces = faceCascade.detectMultiScale(gray, 1.2, 5, minSize = (int(minW), int(minH)))\n",
    "\n",
    "    for(xCor, yCor, width, height) in faces:\n",
    "        cv2.rectangle(img, (xCor, yCor), (xCor + width, yCor + height), (15, 5, 19), 2)\n",
    "        id, confidence = recognize.predict(gray[yCor : yCor + height, xCor : xCor + width])\n",
    "        if (confidence < 100):\n",
    "            id = names[id]\n",
    "        else:\n",
    "            id = \"Not Stored\"\n",
    "        \n",
    "        cv2.putText(img, str(id), (xCor + 50, yCor - 50), cv2.FONT_HERSHEY_SIMPLEX, 1, (255, 255, 255), 2) \n",
    "    \n",
    "    cv2.imshow('Detecting Your Face',img) \n",
    " \n",
    "    if cv2.waitKey(1) == 13:\n",
    "        break\n",
    "\n",
    "cam.release()\n",
    "cv2.destroyAllWindows()"
   ]
  },
  {
   "cell_type": "code",
   "execution_count": null,
   "metadata": {},
   "outputs": [],
   "source": []
  }
 ],
 "metadata": {
  "anaconda-cloud": {},
  "kernelspec": {
   "display_name": "Python 3",
   "language": "python",
   "name": "python3"
  },
  "language_info": {
   "codemirror_mode": {
    "name": "ipython",
    "version": 3
   },
   "file_extension": ".py",
   "mimetype": "text/x-python",
   "name": "python",
   "nbconvert_exporter": "python",
   "pygments_lexer": "ipython3",
   "version": "3.8.5"
  }
 },
 "nbformat": 4,
 "nbformat_minor": 1
}
