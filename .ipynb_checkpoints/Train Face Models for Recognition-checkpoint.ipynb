{
 "cells": [
  {
   "cell_type": "code",
   "execution_count": null,
   "metadata": {},
   "outputs": [],
   "source": [
    "import cv2, os\n",
    "import numpy as np\n",
    "from PIL import Image"
   ]
  },
  {
   "cell_type": "code",
   "execution_count": null,
   "metadata": {
    "scrolled": true
   },
   "outputs": [],
   "source": [
    "recognize = cv2.face.LBPHFaceRecognizer_create()\n",
    "detector = cv2.CascadeClassifier(\"haarcascade_frontalface_default.xml\");"
   ]
  },
  {
   "cell_type": "code",
   "execution_count": null,
   "metadata": {},
   "outputs": [],
   "source": [
    "def getImagesAndLabels(path):\n",
    "    path_of_image = [os.path.join('dataset/', i) for i in os.listdir(path)]     \n",
    "    face_list=[]\n",
    "    ids = []\n",
    "\n",
    "    for imagePath in path_of_image:\n",
    "        img = Image.open(imagePath).convert('L') \n",
    "        img_array = np.array(img, 'uint8')\n",
    "\n",
    "        id = int(os.path.split(imagePath)[-1].split(\".\")[1])\n",
    "        faces = detector.detectMultiScale(img_array, 1.32, 5)\n",
    "\n",
    "        for (xCor, yCor, width, height) in faces:\n",
    "            face_list.append(img_array[yCor : yCor+height, xCor : xCor+width])\n",
    "            ids.append(id)\n",
    "\n",
    "    return face_list, ids\n",
    "\n",
    "\n",
    "faces, ids = getImagesAndLabels(path)\n",
    "id_array = np.array(ids)\n",
    "recognize.train(faces, id_array)\n",
    "recognize.write('trainer.yml') \n",
    "\n",
    "print (\"Pictures are trained successfully\")"
   ]
  },
  {
   "cell_type": "code",
   "execution_count": null,
   "metadata": {},
   "outputs": [],
   "source": []
  }
 ],
 "metadata": {
  "anaconda-cloud": {},
  "kernelspec": {
   "display_name": "Python 3",
   "language": "python",
   "name": "python3"
  },
  "language_info": {
   "codemirror_mode": {
    "name": "ipython",
    "version": 3
   },
   "file_extension": ".py",
   "mimetype": "text/x-python",
   "name": "python",
   "nbconvert_exporter": "python",
   "pygments_lexer": "ipython3",
   "version": "3.8.5"
  }
 },
 "nbformat": 4,
 "nbformat_minor": 1
}
