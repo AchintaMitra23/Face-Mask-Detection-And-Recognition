{
 "cells": [
  {
   "cell_type": "code",
   "execution_count": null,
   "metadata": {},
   "outputs": [],
   "source": [
    "import cv2, os\n",
    "import numpy as np\n",
    "from keras.utils import np_utils\n",
    "\n",
    "path = 'image'\n",
    "categories = os.listdir(path)\n",
    "labels_of_folder = [i for i in range(len(categories))]\n",
    "\n",
    "dictionary = dict(zip(categories, labels_of_folder))"
   ]
  },
  {
   "cell_type": "code",
   "execution_count": null,
   "metadata": {},
   "outputs": [],
   "source": [
    "width = 100\n",
    "height = 100\n",
    "data = []\n",
    "target = []\n",
    "\n",
    "for i in categories:\n",
    "    path2Folder = os.path.join(path, i) \n",
    "    img_names = os.listdir(path2Folder)\n",
    "        \n",
    "    for j in img_names:\n",
    "        path2Img = os.path.join(path2Folder, j) \n",
    "        img = cv2.imread(path2Img)\n",
    "        black_white = cv2.cvtColor(img, cv2.COLOR_BGR2GRAY)\n",
    "        cropped = cv2.resize(black_white, (width, height))\n",
    "        data.append(cropped)\n",
    "        target.append(dictionary[i])  "
   ]
  },
  {
   "cell_type": "code",
   "execution_count": null,
   "metadata": {},
   "outputs": [],
   "source": [
    "data = np.array(data) / 255.0\n",
    "data = np.reshape(data, (data.shape[0], width, height, 1))\n",
    "target = np.array(target)\n",
    "newTarget = np_utils.to_categorical(target)"
   ]
  },
  {
   "cell_type": "code",
   "execution_count": null,
   "metadata": {},
   "outputs": [],
   "source": [
    "np.save('data', data)\n",
    "np.save('target', newTarget)"
   ]
  },
  {
   "cell_type": "code",
   "execution_count": null,
   "metadata": {},
   "outputs": [],
   "source": []
  }
 ],
 "metadata": {
  "kernelspec": {
   "display_name": "Python 3",
   "language": "python",
   "name": "python3"
  },
  "language_info": {
   "codemirror_mode": {
    "name": "ipython",
    "version": 3
   },
   "file_extension": ".py",
   "mimetype": "text/x-python",
   "name": "python",
   "nbconvert_exporter": "python",
   "pygments_lexer": "ipython3",
   "version": "3.8.5"
  }
 },
 "nbformat": 4,
 "nbformat_minor": 2
}
