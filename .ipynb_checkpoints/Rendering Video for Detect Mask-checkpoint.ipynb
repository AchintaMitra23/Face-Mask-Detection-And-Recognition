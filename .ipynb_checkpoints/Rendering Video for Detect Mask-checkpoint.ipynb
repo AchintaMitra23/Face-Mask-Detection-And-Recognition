{
 "cells": [
  {
   "cell_type": "code",
   "execution_count": null,
   "metadata": {},
   "outputs": [],
   "source": [
    "from keras.models import load_model\n",
    "import cv2\n",
    "import numpy as np"
   ]
  },
  {
   "cell_type": "code",
   "execution_count": null,
   "metadata": {},
   "outputs": [],
   "source": [
    "model = load_model('model-019.model')\n",
    "generate_class = cv2.CascadeClassifier('haarcascade_frontalface_default.xml')\n",
    "get_face = cv2.VideoCapture(0)\n",
    "\n",
    "dictionary = {0:'MASK', 1:'NO MASK'}\n",
    "color_dict = {0:(0, 255, 0), 1:(0, 0, 255)}"
   ]
  },
  {
   "cell_type": "code",
   "execution_count": null,
   "metadata": {},
   "outputs": [],
   "source": [
    "while(True):\n",
    "\n",
    "    ret,image = get_face.read()\n",
    "    black_white = cv2.cvtColor(image, cv2.COLOR_BGR2GRAY)\n",
    "    faces = generate_class.detectMultiScale(black_white, 1.3, 5)  \n",
    "    \n",
    "    image_size = 100\n",
    "\n",
    "    for xCor, yCor, width, height in faces:\n",
    "    \n",
    "        face_img = black_white[yCor : yCor+width, xCor : xCor+width]\n",
    "        normalized = cv2.resize(face_img, (image_size, image_size)) / 255.0\n",
    "        reshaped = np.reshape(normalized, (1, image_size, image_size, 1))\n",
    "        result = model.predict(reshaped)\n",
    "\n",
    "        label = np.argmax(result, axis = 1)[0]\n",
    "      \n",
    "        cv2.rectangle(image, (xCor, yCor), (xCor+width, yCor+height), color_dict[label], 2)\n",
    "        cv2.rectangle(image, (xCor, yCor - 40), (xCor+width, yCor), color_dict[label], -1)\n",
    "        cv2.putText(image, dictionary[label], (xCor, yCor - 10), cv2.FONT_HERSHEY_SIMPLEX, 0.8, (240, 56, 100), 2)\n",
    "        \n",
    "        \n",
    "    cv2.imshow('Put Your Face', image)\n",
    "    if (cv2.waitKey(1) == 13):\n",
    "        break\n",
    "        \n",
    "cv2.destroyAllWindows()\n",
    "get_face.release()"
   ]
  },
  {
   "cell_type": "code",
   "execution_count": null,
   "metadata": {},
   "outputs": [],
   "source": []
  }
 ],
 "metadata": {
  "kernelspec": {
   "display_name": "Python 3",
   "language": "python",
   "name": "python3"
  },
  "language_info": {
   "codemirror_mode": {
    "name": "ipython",
    "version": 3
   },
   "file_extension": ".py",
   "mimetype": "text/x-python",
   "name": "python",
   "nbconvert_exporter": "python",
   "pygments_lexer": "ipython3",
   "version": "3.8.5"
  }
 },
 "nbformat": 4,
 "nbformat_minor": 2
}
